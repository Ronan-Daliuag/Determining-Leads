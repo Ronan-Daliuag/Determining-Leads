{
 "cells": [
  {
   "cell_type": "markdown",
   "id": "aa91a097-f688-4c13-933a-d82cef2d5a67",
   "metadata": {},
   "source": [
    "## Context"
   ]
  },
  {
   "cell_type": "markdown",
   "id": "9ffc2d9a-659d-4410-ab00-1376996ef6e6",
   "metadata": {},
   "source": [
    "ABC Supermarket is planning for the year-end sale - they want to launch a new offer i.e. gold membership for only \\\\$499 that is of \\\\$999 on normal days (that gives 20% discount on all purchases) only for existing customers, for that they need to do a campaign through phone calls - the best way to reduce the cost of the campaign is to make a predictive model to classify customers who might purchase the offer, using the data they gathered during last year's campaign.\n",
    "\n",
    "We will build a model for classifying whether customers will reply with a positive\n",
    "response or not."
   ]
  },
  {
   "cell_type": "markdown",
   "id": "a0b2680f",
   "metadata": {},
   "source": [
    "## Import Statements"
   ]
  },
  {
   "cell_type": "code",
   "execution_count": 2828,
   "id": "f5011d9f-b3a9-4684-8ae7-47444ddf4fb3",
   "metadata": {},
   "outputs": [],
   "source": [
    "from sklearn.metrics import accuracy_score, precision_score, recall_score, f1_score, confusion_matrix, roc_auc_score\n",
    "from sklearn.model_selection import train_test_split\n",
    "from sklearn.linear_model import LogisticRegression\n",
    "from sklearn.preprocessing import StandardScaler\n",
    "import matplotlib.pyplot as plt\n",
    "import seaborn as sns\n",
    "import pandas as pd\n",
    "import numpy as np"
   ]
  },
  {
   "cell_type": "code",
   "execution_count": null,
   "id": "97acb5b2-958a-4556-8a20-dcab3b7c81b4",
   "metadata": {},
   "outputs": [],
   "source": [
    "df = pd.read_excel(\"marketing_data.xlsx\")"
   ]
  },
  {
   "cell_type": "markdown",
   "id": "bdde78f5-3aba-41b5-a6bb-63b2ea972253",
   "metadata": {},
   "source": [
    "## Column Definitions"
   ]
  },
  {
   "cell_type": "markdown",
   "id": "9bc1ef13",
   "metadata": {},
   "source": [
    "- Response (target) - 1 if customer accepted the offer in the last campaign, 0\n",
    "otherwise\n",
    "- Complain - 1 if a customer complained in the last 2 years\n",
    "- DtCustomer - date of customer’s enrolment with the company\n",
    "- Education - customer’s level of education\n",
    "- Marital - customer’s marital status\n",
    "- Kidhome - number of small children in customer’s household\n",
    "- Teenhome - number of teenagers in customer’s household\n",
    "- Income - customer’s yearly household income\n",
    "- MntFishProducts - the amount spent on fish products in the last 2 years\n",
    "- MntMeatProducts - the amount spent on meat products in the last 2 years\n",
    "- MntFruits - the amount spent on fruits products in the last 2 years\n",
    "- MntSweetProducts - amount spent on sweet products in the last 2 years\n",
    "- MntWines - the amount spent on wine products in the last 2 years\n",
    "- MntGoldProds - the amount spent on gold products in the last 2 years\n",
    "- NumDealsPurchases - number of purchases made with discount\n",
    "- NumCatalogPurchases - number of purchases made using catalog\n",
    "- NumStorePurchases - number of purchases made directly in stores\n",
    "- NumWebPurchases - number of purchases made through the company’s web site\n",
    "- NumWebVisitsMonth - number of visits to company’s web site in the last month\n",
    "- Recency - number of days since the last purchase\n",
    "- ID - unique customer-id\n",
    "- Year_Birth - customer's year of birth"
   ]
  },
  {
   "cell_type": "markdown",
   "id": "00f076d8-6341-43ec-a276-3eae6e834849",
   "metadata": {},
   "source": [
    "## Data Profiling & Preprocessing"
   ]
  },
  {
   "cell_type": "code",
   "execution_count": null,
   "id": "f3c36aaf-00b9-4831-ac22-905e9f7eacea",
   "metadata": {},
   "outputs": [],
   "source": [
    "# df.dtypes\n",
    "# df.isnull().sum()\n"
   ]
  },
  {
   "cell_type": "code",
   "execution_count": null,
   "id": "c665d867",
   "metadata": {},
   "outputs": [],
   "source": [
    "# dfdupes = df\n",
    "df = df.drop(columns=['ID'])\n",
    "df = df.drop_duplicates(keep='last')"
   ]
  },
  {
   "cell_type": "code",
   "execution_count": null,
   "id": "f3c2dd0d",
   "metadata": {},
   "outputs": [],
   "source": [
    "# Extracting Year from customer's date of enrolment\n",
    "\n",
    "from datetime import datetime\n",
    "\n",
    "df['Dt_Customer'] = pd.to_datetime(df['Dt_Customer'], format='%m/%d/%y')\n",
    "df['Dt_Customer'] = df['Dt_Customer'].dt.year"
   ]
  },
  {
   "cell_type": "code",
   "execution_count": null,
   "id": "6878c05d",
   "metadata": {},
   "outputs": [],
   "source": [
    "# Removing Customer Records with Year_Birth earlier than 1940\n",
    "def remove_centennial_cust(df):\n",
    "    return df[df['Year_Birth']>=1940]\n",
    "\n",
    "df = remove_centennial_cust(df)"
   ]
  },
  {
   "cell_type": "code",
   "execution_count": null,
   "id": "576f226e",
   "metadata": {},
   "outputs": [],
   "source": [
    "# Change Alone, Absurd, YOLO to Single\n",
    "df['Marital_Status'] = df['Marital_Status'].replace('Alone', 'Single')\n",
    "df['Marital_Status'] = df['Marital_Status'].replace('Absurd', 'Single')\n",
    "df['Marital_Status'] = df['Marital_Status'].replace('YOLO', 'Single')"
   ]
  },
  {
   "cell_type": "code",
   "execution_count": null,
   "id": "674f95a7",
   "metadata": {},
   "outputs": [],
   "source": [
    "# Populating Missing Income with Median with Similar Education and MaritalStatus\n",
    "# median = df.groupby(['Education', 'Marital_Status'])['Income'].transform('median')\n",
    "# df['Income'] = df['Income'].fillna(median);\n",
    "# Changed to fill 0\n",
    "df['Income'] = df['Income'].fillna(0)"
   ]
  },
  {
   "cell_type": "code",
   "execution_count": null,
   "id": "02a91f50",
   "metadata": {},
   "outputs": [],
   "source": [
    "# plt.figure(figsize=(8, 6))\n",
    "# plt.hist(df['Income'], bins=30, density=True, alpha=0.7, color='blue')\n",
    "# plt.title('Histogram of Income')\n",
    "# plt.xlabel('Income')\n",
    "# plt.ylabel('Density')"
   ]
  },
  {
   "cell_type": "code",
   "execution_count": null,
   "id": "be1e59ea",
   "metadata": {},
   "outputs": [],
   "source": [
    "# Convert Year_Birth to Age\n",
    "df['Age'] = 2015 - df['Year_Birth']\n",
    "df.drop(columns=['Year_Birth'],inplace=True)"
   ]
  },
  {
   "cell_type": "code",
   "execution_count": null,
   "id": "b6d53d27",
   "metadata": {},
   "outputs": [],
   "source": [
    "# Dropping Outliers in Income using STD method\n",
    "income = df['Income'].values\n",
    "mean = np.mean(income)\n",
    "std = np.std(income)\n",
    "\n",
    "threshold_lower = mean - 2 * std\n",
    "threshold_upper = mean + 2 * std\n",
    "\n",
    "df = df[(df['Income'] >= threshold_lower) & (df['Income'] <= threshold_upper)]"
   ]
  },
  {
   "cell_type": "code",
   "execution_count": null,
   "id": "d056f829",
   "metadata": {},
   "outputs": [],
   "source": [
    "# Dropping Outliers in Income using IQR Method\n",
    "# def remove_outliers(df, threshold=1.5):\n",
    "#     Q1 = df['Income'].quantile(0.25)\n",
    "#     Q3 = df['Income'].quantile(0.75)\n",
    "#     IQR = Q3 - Q1\n",
    "#     lower_bound = Q1 - threshold * IQR\n",
    "#     upper_bound = Q3 + threshold * IQR\n",
    "#     return df[(df['Income'] > lower_bound) & (df['Income'] < upper_bound)]\n",
    "\n",
    "\n",
    "# df = remove_outliers(df)"
   ]
  },
  {
   "cell_type": "code",
   "execution_count": null,
   "id": "d275f2da",
   "metadata": {},
   "outputs": [],
   "source": [
    "# plt.figure(figsize=(8, 6))\n",
    "# plt.hist(df['Income'], bins=30, density=True, alpha=0.7, color='blue')\n",
    "# plt.title('Histogram of Income')\n",
    "# plt.xlabel('Income')\n",
    "# plt.ylabel('Density')"
   ]
  },
  {
   "cell_type": "code",
   "execution_count": null,
   "id": "947653bd",
   "metadata": {},
   "outputs": [],
   "source": [
    "# Ratio of Mnt column to the total of Mnt Column; Assuming that the formulas are correct, no effect\n",
    "\n",
    "# df['MntTotal'] = df[['MntWines','MntFruits','MntMeatProducts','MntFishProducts','MntSweetProducts','MntGoldProds']].sum(axis=1)\n",
    "# sum = df['MntTotal'].sum()\n",
    "# aveSum = sum/ len(df)\n",
    "# df['Ratio'] = df['MntTotal']/aveSum\n",
    "# df.drop(columns=['MntTotal'],inplace=True)"
   ]
  },
  {
   "cell_type": "code",
   "execution_count": null,
   "id": "2f0e9725",
   "metadata": {},
   "outputs": [],
   "source": [
    "# WebTransactions\n",
    "df['WebTransactions'] = df['NumWebPurchases']**2/df['NumWebVisitsMonth']\n",
    "df.replace([np.inf,-np.inf, np.nan],0, inplace=True)"
   ]
  },
  {
   "cell_type": "code",
   "execution_count": null,
   "id": "c6d4278f",
   "metadata": {},
   "outputs": [],
   "source": [
    "# Total # of Children and Identify if Single Parent\n",
    "# No effect if no other column is removed\n",
    "# df['TotalChildren'] = df['Kidhome']+df['Teenhome']\n",
    "# df['SingleParent'] = False\n",
    "\n",
    "# # Single\n",
    "# SingleParentMask = (df['Marital_Status'] == 'Single') & (df['TotalChildren']>0)\n",
    "# df.loc[SingleParentMask, 'SingleParent'] = True\n",
    "\n",
    "# # Widow\n",
    "# SingleParentMask = (df['Marital_Status'] == 'Widow') & (df['TotalChildren']>0)\n",
    "# df.loc[SingleParentMask, 'SingleParent'] = True\n",
    "\n",
    "# # Incentivize DealsPurchases if SingleParent, No Effect\n",
    "# df.loc[df['SingleParent'], 'NumDealsPurchases'] **=2"
   ]
  },
  {
   "cell_type": "code",
   "execution_count": null,
   "id": "fe09759e",
   "metadata": {},
   "outputs": [],
   "source": [
    "## Educ Coding\n",
    "# educMap = {'Basic':1, '2n Cycle':2, 'Graduation':3,'Master':4,'PhD':5}\n",
    "# df['Education'] = df['Education'].replace(educMap)"
   ]
  },
  {
   "cell_type": "code",
   "execution_count": null,
   "id": "ff6a2782",
   "metadata": {},
   "outputs": [],
   "source": [
    "## If Married with kids No effect\n",
    "# df['Parents']=False\n",
    "# df.loc[((df['Marital_Status'].isin(['Married', 'Together'])) & df['TotalChildren']>0),'Parents']=True"
   ]
  },
  {
   "cell_type": "code",
   "execution_count": null,
   "id": "3c586b6e",
   "metadata": {},
   "outputs": [],
   "source": [
    "# Income to MNT total No Effect\n",
    "# df['BoughtItems'] = df['Income']/(df['Mnt+df['MntFruits']+df['MntGoldProds']\n",
    "#                                            +df['MntMeatFishProducts']Products']+df['MntSweetProducts']+df['MntWines'])"
   ]
  },
  {
   "cell_type": "code",
   "execution_count": null,
   "id": "621c8a62",
   "metadata": {},
   "outputs": [],
   "source": [
    "# No Effect\n",
    "# bins = [0, 24, 177, 505, 1500]\n",
    "# labels = [1,2,3,4]\n",
    "\n",
    "# df['MntWinesNum'] = pd.cut(df['MntWines'],bins=bins, labels=labels, right=False)\n",
    "# df['MntWinesNum'] = df['MntWinesNum'].astype(int)"
   ]
  },
  {
   "cell_type": "code",
   "execution_count": null,
   "id": "a52dbbbe",
   "metadata": {},
   "outputs": [],
   "source": [
    "# df['MntWines'].describe()"
   ]
  },
  {
   "cell_type": "code",
   "execution_count": null,
   "id": "633b902d",
   "metadata": {},
   "outputs": [],
   "source": [
    "## RecencyRelevance\n",
    "# df['RecencyRelevance'] = df['Recency']**2/(df['MntFishProducts']+df['MntFruits']+df['MntGoldProds']\n",
    "#                                            +df['MntMeatProducts']+df['MntSweetProducts']+df['MntWines'])"
   ]
  },
  {
   "cell_type": "markdown",
   "id": "9331d0d9-6a22-4291-b17b-7a1c40307252",
   "metadata": {},
   "source": [
    "## Initial Exploratory Data Analysis"
   ]
  },
  {
   "cell_type": "code",
   "execution_count": null,
   "id": "06568e8a-b9eb-4c2b-84bc-96336e158c3c",
   "metadata": {},
   "outputs": [],
   "source": [
    "# colors = sns.color_palette('pastel')[0:len(df['Response'].value_counts())]\n",
    "\n",
    "# #create pie chart\n",
    "# plt.pie(df['Response'].value_counts(), labels=['Didnt Accept', 'Accepted'], colors = colors, autopct='%.0f%%')\n",
    "# plt.legend()\n",
    "# plt.show()"
   ]
  },
  {
   "cell_type": "code",
   "execution_count": null,
   "id": "6723da54-c80b-40ef-a02a-476c0f65538d",
   "metadata": {},
   "outputs": [],
   "source": [
    "# colors = sns.color_palette('pastel')[0:len(df['Complain'].value_counts())]\n",
    "\n",
    "# #create pie chart\n",
    "# plt.pie(df['Complain'].value_counts(), labels=['Didnt Complain', 'Complained'], colors = colors, autopct='%.0f%%')\n",
    "# plt.legend()\n",
    "# plt.show()"
   ]
  },
  {
   "cell_type": "code",
   "execution_count": null,
   "id": "c9d07c0b",
   "metadata": {},
   "outputs": [],
   "source": [
    "# sns.barplot(x = 'Income', y = 'count', data=df[['Income']].value_counts().reset_index(name='count'))\n",
    "# sns.countplot(x='Income',data=df_complaints)\n",
    "# plt.xticks(rotation=45)\n",
    "# plt.show()\n",
    "# df"
   ]
  },
  {
   "cell_type": "code",
   "execution_count": null,
   "id": "c9e50a5c-0799-4bfe-99d2-9bf7129d112b",
   "metadata": {},
   "outputs": [],
   "source": [
    "# sns.barplot(x = 'Complain', y='count', hue = 'Response',data=df[['Complain', 'Response']].value_counts().reset_index())\n",
    "    \n",
    "# plt.show()"
   ]
  },
  {
   "cell_type": "code",
   "execution_count": null,
   "id": "4eb53c83-8f8f-4c8f-bfa5-2da0673cf881",
   "metadata": {},
   "outputs": [],
   "source": [
    "# fig, axes = plt.subplots(ncols=2, nrows=1, figsize=(12, 4))\n",
    "\n",
    "# for i, ax, col in zip(range(2), axes.flat, ['Kidhome', 'Teenhome']):\n",
    "#     tmp = df[[col, 'Response']].value_counts().to_frame().reset_index()\n",
    "#     tmp['Response'] = tmp['Response'].replace({0: 'Didnt Accept', 1: 'Accepted'})\n",
    "\n",
    "#     sns.barplot(x = col, y='count', \n",
    "#                    hue = 'Response',data=tmp, ax=ax)\n",
    "    \n",
    "# plt.show()"
   ]
  },
  {
   "cell_type": "code",
   "execution_count": null,
   "id": "c4879207-640e-4de6-b239-f73acd2df4ae",
   "metadata": {},
   "outputs": [],
   "source": [
    "# fig, axes = plt.subplots(ncols=3, nrows=2, figsize=(12, 10))\n",
    "\n",
    "# for i, ax, col in zip(range(6), axes.flat, ['MntFishProducts', 'MntMeatProducts', 'MntFruits', 'MntSweetProducts', 'MntWines', 'MntGoldProds']):\n",
    "#     sns.kdeplot(df, x=col, hue='Response', fill=True, ax=ax)\n",
    "    \n",
    "# plt.show()"
   ]
  },
  {
   "cell_type": "markdown",
   "id": "fc7c28d1-97f0-4b25-a53a-67e68a28807b",
   "metadata": {},
   "source": [
    "## Baseline Modelling"
   ]
  },
  {
   "cell_type": "code",
   "execution_count": null,
   "id": "d145f090",
   "metadata": {},
   "outputs": [],
   "source": [
    "def one_hot_encode(data, column, suffix=''):\n",
    "    encoded = pd.get_dummies(data[column], drop_first=True, prefix=column+suffix)\n",
    "    data = data.drop(column, axis = 1)\n",
    "    data = data.join(encoded)\n",
    "    return data"
   ]
  },
  {
   "cell_type": "code",
   "execution_count": null,
   "id": "615bb7ad",
   "metadata": {},
   "outputs": [],
   "source": [
    "df = one_hot_encode(df, 'Marital_Status')\n",
    "df = one_hot_encode(df, 'Education')"
   ]
  },
  {
   "cell_type": "code",
   "execution_count": null,
   "id": "509b5e72",
   "metadata": {},
   "outputs": [
    {
     "data": {
      "text/plain": [
       "Index(['Year_Birth', 'Income', 'Kidhome', 'Teenhome', 'Dt_Customer', 'Recency',\n",
       "       'MntWines', 'MntFruits', 'MntMeatProducts', 'MntFishProducts',\n",
       "       'MntSweetProducts', 'MntGoldProds', 'NumDealsPurchases',\n",
       "       'NumWebPurchases', 'NumCatalogPurchases', 'NumStorePurchases',\n",
       "       'NumWebVisitsMonth', 'Response', 'Complain', 'WebTransactions',\n",
       "       'Marital_Status_Alone', 'Marital_Status_Divorced',\n",
       "       'Marital_Status_Married', 'Marital_Status_Single',\n",
       "       'Marital_Status_Together', 'Marital_Status_Widow',\n",
       "       'Marital_Status_YOLO', 'Education_Basic', 'Education_Graduation',\n",
       "       'Education_Master', 'Education_PhD'],\n",
       "      dtype='object')"
      ]
     },
     "execution_count": 2819,
     "metadata": {},
     "output_type": "execute_result"
    }
   ],
   "source": [
    "df.columns"
   ]
  },
  {
   "cell_type": "code",
   "execution_count": null,
   "id": "3b563a5d",
   "metadata": {},
   "outputs": [],
   "source": [
    "# df = df[['Year_Birth', 'Income', 'Kidhome', 'Teenhome', 'Dt_Customer', 'Recency',\n",
    "#        'MntWines', 'MntFruits', 'MntMeatProducts', 'MntFishProducts',\n",
    "#        'MntSweetProducts', 'MntGoldProds', 'NumDealsPurchases',\n",
    "#        'NumCatalogPurchases', 'NumStorePurchases',\n",
    "#         'Response', 'Complain', 'WebTransactions',\n",
    "#        'Marital_Status_Alone', 'Marital_Status_Divorced',\n",
    "#        'Marital_Status_Married', 'Marital_Status_Single',\n",
    "#        'Marital_Status_Together', 'Marital_Status_Widow',\n",
    "#        'Marital_Status_YOLO', 'Education_Basic', 'Education_Graduation',\n",
    "#        'Education_Master', 'Education_PhD']]"
   ]
  },
  {
   "cell_type": "code",
   "execution_count": null,
   "id": "e16403a7-e942-4dd2-a06c-f628ffc02628",
   "metadata": {},
   "outputs": [],
   "source": [
    "# X = df.drop('Response', axis=1).iloc[:,1:][['MntFishProducts', 'MntMeatProducts', 'MntFruits'\n",
    "#                                             , 'MntSweetProducts', 'MntWines', 'MntGoldProds'\n",
    "#                                             ]]\n",
    "X = df.drop(['Response', 'Complain'], axis=1)\n",
    "y = df['Response']\n",
    "\n",
    "X_train, X_test, y_train, y_test = train_test_split(X, y, test_size=0.2, random_state=42, stratify=y)"
   ]
  },
  {
   "cell_type": "code",
   "execution_count": null,
   "id": "d0a30128",
   "metadata": {},
   "outputs": [],
   "source": [
    "from sklearn.naive_bayes import GaussianNB \n",
    "from sklearn.tree import DecisionTreeClassifier\n",
    "from sklearn.svm import SVC\n",
    "from sklearn.neighbors import KNeighborsClassifier\n",
    "from sklearn.preprocessing import MinMaxScaler\n",
    "from sklearn.preprocessing import RobustScaler\n",
    "# from sklearn."
   ]
  },
  {
   "cell_type": "code",
   "execution_count": null,
   "id": "b2004791-b3cf-4313-93e3-32b349b6052d",
   "metadata": {},
   "outputs": [],
   "source": [
    "scaler = RobustScaler()\n",
    "X_train = scaler.fit_transform(X_train)\n"
   ]
  },
  {
   "cell_type": "code",
   "execution_count": null,
   "metadata": {},
   "outputs": [],
   "source": [
    "# Table for Model Comparison\n",
    "# classifiers = {\n",
    "#     'Logistic Regression': LogisticRegression(),\n",
    "#     'Gaussian Naive Bayes': GaussianNB(),\n",
    "#     'Decision Tree': DecisionTreeClassifier(),\n",
    "#     'SVC': SVC(),\n",
    "#     'K Nearest Neighbors': KNeighborsClassifier()\n",
    "# }\n",
    "\n",
    "# metricsList = []\n",
    "\n",
    "# for name, clf in classifiers.items():\n",
    "#     clf.fit(X_train,y_train)\n",
    "\n",
    "#     preds = clf.predict(scaler.transform(X_test))\n",
    "\n",
    "#     # Scores\n",
    "#     acc = accuracy_score(y_test, preds)\n",
    "#     prec = precision_score(y_test, preds)\n",
    "#     rec = recall_score(y_test, preds)\n",
    "#     f1 = f1_score(y_test, preds)\n",
    "#     auc = roc_auc_score(y_test, preds)\n",
    "#     trainScore = clf.score(X_train, y_train)\n",
    "#     testScore = clf.score(X_test, y_test)\n",
    "\n",
    "#     metrics = {\n",
    "#         'Classifier': name,\n",
    "#         'Accuracy': format(acc,'.4f'),\n",
    "#         'Precision': format(prec,'.4f'),\n",
    "#         'Recall': format(rec,'.4f'),\n",
    "#         'F1 Score': format(f1,'.4f'),\n",
    "#         'AUC': format(auc,'.4f'),\n",
    "#         'Training': format(trainScore, '.4f'),\n",
    "#         'Test': format(testScore, '.4f'),\n",
    "#     }\n",
    "\n",
    "#     metricsList.append(metrics)\n",
    "\n",
    "# metrics_df = pd.DataFrame(metricsList)\n",
    "\n",
    "# metrics_df"
   ]
  },
  {
   "cell_type": "code",
   "execution_count": null,
   "id": "c4b417c9-1464-4e74-9fc2-43133b2dc56b",
   "metadata": {},
   "outputs": [
    {
     "name": "stdout",
     "output_type": "stream",
     "text": [
      "Accuracy: 0.8851\n",
      "Precision: 0.7419\n",
      "Recall: 0.3710\n",
      "F1: 0.4946\n",
      "AUC: 0.6740\n",
      "\n",
      "Training set score: 0.8667\n",
      "Test set score: 0.1711\n"
     ]
    },
    {
     "name": "stderr",
     "output_type": "stream",
     "text": [
      "C:\\Users\\Predator\\AppData\\Roaming\\Python\\Python312\\site-packages\\sklearn\\base.py:486: UserWarning: X has feature names, but LogisticRegression was fitted without feature names\n",
      "  warnings.warn(\n"
     ]
    }
   ],
   "source": [
    "clf = LogisticRegression().fit(X_train, y_train)\n",
    "preds = clf.predict(scaler.transform(X_test))\n",
    "\n",
    "acc = accuracy_score(y_test, preds)\n",
    "prec = precision_score(y_test, preds)\n",
    "rec = recall_score(y_test, preds)\n",
    "f1 = f1_score(y_test, preds)\n",
    "auc = roc_auc_score(y_test, preds)\n",
    "\n",
    "print(\"Accuracy: %.4f\" % acc)\n",
    "print(\"Precision: %.4f\" % prec)\n",
    "print(\"Recall: %.4f\" % rec)\n",
    "print(\"F1: %.4f\" % f1)\n",
    "print(\"AUC: %.4f\" % auc)\n",
    "\n",
    "# Check for overfitting\n",
    "print('\\nTraining set score: {:.4f}'.format(clf.score(X_train, y_train)))\n",
    "print('Test set score: {:.4f}'.format(clf.score(X_test, y_test)))"
   ]
  },
  {
   "cell_type": "markdown",
   "id": "2c1a49fe",
   "metadata": {},
   "source": [
    "### Result Matrix and Graphs"
   ]
  },
  {
   "cell_type": "code",
   "execution_count": null,
   "id": "4a775741-864c-4e12-91eb-cd63b3257769",
   "metadata": {},
   "outputs": [],
   "source": [
    "# conf_mat = confusion_matrix(y_test, preds)\n",
    "# plt.figure(figsize=(6, 4))\n",
    "# sns.heatmap(conf_mat, annot=True, fmt='d', cmap='Blues')\n",
    "# plt.xlabel('Predicted labels')\n",
    "# plt.ylabel('True labels')\n",
    "# plt.title('Confusion Matrix')\n",
    "# plt.show()"
   ]
  },
  {
   "cell_type": "code",
   "execution_count": null,
   "id": "eb7dcade",
   "metadata": {},
   "outputs": [],
   "source": [
    "## Feature Importance\n",
    "# feature_names = X.columns\n",
    "# plt.figure(figsize=(10, 6))\n",
    "# plt.barh(np.arange(len(feature_names)), clf.coef_[0], color='skyblue')\n",
    "# plt.yticks(np.arange(len(feature_names)), feature_names)\n",
    "# plt.xlabel('Coefficient Value')\n",
    "# plt.ylabel('Feature')\n",
    "# plt.title('Logistic Regression Coefficients')\n",
    "# plt.grid(True)\n",
    "# plt.show()"
   ]
  }
 ],
 "metadata": {
  "kernelspec": {
   "display_name": "Python 3 (ipykernel)",
   "language": "python",
   "name": "python3"
  },
  "language_info": {
   "codemirror_mode": {
    "name": "ipython",
    "version": 3
   },
   "file_extension": ".py",
   "mimetype": "text/x-python",
   "name": "python",
   "nbconvert_exporter": "python",
   "pygments_lexer": "ipython3",
   "version": "3.12.1"
  }
 },
 "nbformat": 4,
 "nbformat_minor": 5
}
