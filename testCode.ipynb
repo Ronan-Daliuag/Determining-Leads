{
 "cells": [
  {
   "cell_type": "code",
   "execution_count": 1,
   "metadata": {},
   "outputs": [
    {
     "name": "stdout",
     "output_type": "stream",
     "text": [
      "   Customer_ID  Year_Customer  Month_Customer  Day_Customer\n",
      "0            1           2015               1            15\n",
      "1            2           2018               5            20\n",
      "2            3           2020              11            10\n",
      "3            4           2010               3            25\n",
      "4            5           2022               9            12\n"
     ]
    }
   ],
   "source": [
    "import pandas as pd\n",
    "\n",
    "# Sample data\n",
    "data = {\n",
    "    'Customer_ID': [1, 2, 3, 4, 5],\n",
    "    'Dt_Customer': ['2015-01-15', '2018-05-20', '2020-11-10', '2010-03-25', '2022-09-12']\n",
    "}\n",
    "\n",
    "# Creating a DataFrame\n",
    "df = pd.DataFrame(data)\n",
    "\n",
    "# Quantifying Dt_Customer\n",
    "df['Dt_Customer'] = pd.to_datetime(df['Dt_Customer'])\n",
    "df['Year_Customer'] = df['Dt_Customer'].dt.year\n",
    "df['Month_Customer'] = df['Dt_Customer'].dt.month\n",
    "df['Day_Customer'] = df['Dt_Customer'].dt.day\n",
    "\n",
    "# Drop the original Dt_Customer column\n",
    "df.drop(columns=['Dt_Customer'], inplace=True)\n",
    "\n",
    "print(df)\n"
   ]
  }
 ],
 "metadata": {
  "kernelspec": {
   "display_name": "Python 3",
   "language": "python",
   "name": "python3"
  },
  "language_info": {
   "codemirror_mode": {
    "name": "ipython",
    "version": 3
   },
   "file_extension": ".py",
   "mimetype": "text/x-python",
   "name": "python",
   "nbconvert_exporter": "python",
   "pygments_lexer": "ipython3",
   "version": "3.12.1"
  }
 },
 "nbformat": 4,
 "nbformat_minor": 2
}
