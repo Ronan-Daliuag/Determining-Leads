{
 "cells": [
  {
   "cell_type": "code",
   "execution_count": 1,
   "metadata": {},
   "outputs": [
    {
     "name": "stderr",
     "output_type": "stream",
     "text": [
      "<>:17: SyntaxWarning: invalid escape sequence '\\d'\n",
      "<>:17: SyntaxWarning: invalid escape sequence '\\d'\n",
      "C:\\Users\\Shaun Padrejuan\\AppData\\Local\\Temp\\ipykernel_13488\\1182585383.py:17: SyntaxWarning: invalid escape sequence '\\d'\n",
      "  df['Year_Birth'] = df['Year_Birth'].astype(str).str.extract('(\\d+)')\n"
     ]
    },
    {
     "name": "stdout",
     "output_type": "stream",
     "text": [
      "   Customer_ID  Year_Birth Dt_Customer  Age_At_Registration\n",
      "0            1        1990  2015-01-15                   25\n",
      "1            2        1985  2018-05-20                   33\n",
      "2            3        2002  2020-11-10                   18\n",
      "3            4        1978  2010-03-25                   32\n",
      "4            5        1995  2022-09-12                   27\n"
     ]
    },
    {
     "name": "stderr",
     "output_type": "stream",
     "text": [
      "C:\\Users\\Shaun Padrejuan\\AppData\\Local\\Temp\\ipykernel_13488\\1182585383.py:15: UserWarning: The argument 'infer_datetime_format' is deprecated and will be removed in a future version. A strict version of it is now the default, see https://pandas.pydata.org/pdeps/0004-consistent-to-datetime-parsing.html. You can safely remove this argument.\n",
      "  df['Dt_Customer'] = pd.to_datetime(df['Dt_Customer'], infer_datetime_format=True, errors='coerce')\n"
     ]
    }
   ],
   "source": []
  }
 ],
 "metadata": {
  "kernelspec": {
   "display_name": "Python 3",
   "language": "python",
   "name": "python3"
  },
  "language_info": {
   "codemirror_mode": {
    "name": "ipython",
    "version": 3
   },
   "file_extension": ".py",
   "mimetype": "text/x-python",
   "name": "python",
   "nbconvert_exporter": "python",
   "pygments_lexer": "ipython3",
   "version": "3.12.1"
  }
 },
 "nbformat": 4,
 "nbformat_minor": 2
}
